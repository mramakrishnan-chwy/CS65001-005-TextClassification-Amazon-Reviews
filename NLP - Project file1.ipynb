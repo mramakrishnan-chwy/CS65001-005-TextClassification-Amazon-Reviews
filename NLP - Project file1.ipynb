{
 "cells": [
  {
   "cell_type": "code",
   "execution_count": 271,
   "metadata": {},
   "outputs": [],
   "source": [
    "import numpy as np\n",
    "import pandas as pd\n",
    "from sklearn.feature_extraction.text import CountVectorizer\n",
    "from collections import Counter\n",
    "import re"
   ]
  },
  {
   "cell_type": "markdown",
   "metadata": {},
   "source": [
    "### Reading the training data and its labels"
   ]
  },
  {
   "cell_type": "code",
   "execution_count": 272,
   "metadata": {},
   "outputs": [],
   "source": [
    "#Train data\n",
    "train_file = open('trn.data.txt', 'r')\n",
    "train_data = train_file.readlines()\n",
    "train_file.close()\n",
    "\n",
    "#Train label\n",
    "train_lab_file = open('trn.label.txt', 'r')\n",
    "train_label = train_lab_file.readlines()\n",
    "train_lab_file.close()"
   ]
  },
  {
   "cell_type": "markdown",
   "metadata": {},
   "source": [
    "#### Text pre-processing"
   ]
  },
  {
   "cell_type": "code",
   "execution_count": 225,
   "metadata": {},
   "outputs": [],
   "source": [
    "#Converting all the text into lower case\n",
    "train_data = [re.sub('[^a-zA-Z0-9 \\n]', '',each.lower().strip()) for each in train_data]\n",
    "vocab = []\n",
    "\n",
    "#Creating feature vector\n",
    "for value,each in enumerate(train_data):\n",
    "    #print(each)\n",
    "    feature_vector = [(each,train_label[value].strip()) for each in each.split(\" \") if each != '']\n",
    "    vocab.extend(feature_vector)"
   ]
  },
  {
   "cell_type": "code",
   "execution_count": 273,
   "metadata": {},
   "outputs": [],
   "source": [
    "#corpus = ' '.join(train_data).split(\" \")\n",
    "counts = Counter(vocab)"
   ]
  },
  {
   "cell_type": "code",
   "execution_count": 260,
   "metadata": {},
   "outputs": [],
   "source": [
    "# Converting the very high frequency and very low frequency to UNK tokens\n",
    "# Taking the frequency above 50k and frequency less than 5 as UNK\n",
    "unk_tokens = [' '+labels[0]+' ' for labels, values in counts.items() if values < 3]\n",
    "all_unk = '|'.join(unk_tokens)"
   ]
  },
  {
   "cell_type": "code",
   "execution_count": 269,
   "metadata": {},
   "outputs": [
    {
     "ename": "KeyboardInterrupt",
     "evalue": "",
     "output_type": "error",
     "traceback": [
      "\u001b[1;31m---------------------------------------------------------------------------\u001b[0m",
      "\u001b[1;31mKeyboardInterrupt\u001b[0m                         Traceback (most recent call last)",
      "\u001b[1;32m<ipython-input-269-7a84d5393acd>\u001b[0m in \u001b[0;36m<module>\u001b[1;34m()\u001b[0m\n\u001b[1;32m----> 1\u001b[1;33m \u001b[0mtrain_data_new\u001b[0m \u001b[1;33m=\u001b[0m \u001b[1;33m[\u001b[0m\u001b[0mre\u001b[0m\u001b[1;33m.\u001b[0m\u001b[0msub\u001b[0m\u001b[1;33m(\u001b[0m\u001b[0mall_unk\u001b[0m\u001b[1;33m,\u001b[0m\u001b[1;34m' <UNK> '\u001b[0m\u001b[1;33m,\u001b[0m\u001b[0mtrain_data_each\u001b[0m\u001b[1;33m)\u001b[0m \u001b[1;32mfor\u001b[0m \u001b[0mtrain_data_each\u001b[0m \u001b[1;32min\u001b[0m \u001b[0mtrain_data\u001b[0m\u001b[1;33m]\u001b[0m\u001b[1;33m\u001b[0m\u001b[0m\n\u001b[0m",
      "\u001b[1;32m<ipython-input-269-7a84d5393acd>\u001b[0m in \u001b[0;36m<listcomp>\u001b[1;34m(.0)\u001b[0m\n\u001b[1;32m----> 1\u001b[1;33m \u001b[0mtrain_data_new\u001b[0m \u001b[1;33m=\u001b[0m \u001b[1;33m[\u001b[0m\u001b[0mre\u001b[0m\u001b[1;33m.\u001b[0m\u001b[0msub\u001b[0m\u001b[1;33m(\u001b[0m\u001b[0mall_unk\u001b[0m\u001b[1;33m,\u001b[0m\u001b[1;34m' <UNK> '\u001b[0m\u001b[1;33m,\u001b[0m\u001b[0mtrain_data_each\u001b[0m\u001b[1;33m)\u001b[0m \u001b[1;32mfor\u001b[0m \u001b[0mtrain_data_each\u001b[0m \u001b[1;32min\u001b[0m \u001b[0mtrain_data\u001b[0m\u001b[1;33m]\u001b[0m\u001b[1;33m\u001b[0m\u001b[0m\n\u001b[0m",
      "\u001b[1;31mKeyboardInterrupt\u001b[0m: "
     ]
    }
   ],
   "source": [
    "train_data_new = [re.sub(all_unk,' <UNK> ',train_data_each) for train_data_each in train_data]"
   ]
  },
  {
   "cell_type": "code",
   "execution_count": 274,
   "metadata": {},
   "outputs": [
    {
     "data": {
      "text/plain": [
       "[\"I 've had this USB drive for about 3 months now , and I absolutely love it . I like to carry around my USB drives on my keychain , and durability has always been an issue . However , this device has a solid , all-metal construction , and an extremely handy and secure retracting mechanism . I get great performance from the drive as well . The U3 software can be helpful for some , although for me , I fail to find it as useful . Fortunately , Sandisk now provides a way to remove the bundled U3 software from the drive itself , turning it into a standard 2gb USB drive . There are cheaper 2gb flash drives out there , but none of them would last nearly as long as the Cruzer Titanium . For the quality that you get , the price simply cannot be beat .\\n\",\n",
       " \"The cords I purchases were indeed 3 ' and function properly . Be aware , however , that the cord pictured is NOT the item you will receive . The cord pictured is probably at least 7'-if you 're not careful and order by appearance , you will be disappointed . A 3 ' cord is good for connecting things that are right next to each other and little more .\\n\",\n",
       " \"This camera really is a waterproof pocket camera , and it removes worries of rain , sand , mud , or other substances getting into the camera and ruining it . Its very carefree in that way . Unfortunately , it does such a lousy job of exposing , focusing , and capturing that in place of your worry about rain damage is your new worry about capturing that special moment . I love virtually everything about this camera .. except the lousy picture quality . The camera looks great , feels nice , is easy to use , starts up quickly , and is of course waterproof . It fits easily in a pocket and the battery lasts for a reasonably long period of time . It even comes with a nice padded belt case . But after you have seen the results , all you will be thinking about as you frame that next shot is if you 'll get home and discover the picture you just took is so bad its unusable . Outside of bright , direct sunlight , I would guess that 50 % of the images from this camera are sub-standard . And half of those are so bad they are unusable . If you can live with those odds and you need a pocket camera that is waterproff , then you will like this camera . I honestly have had better , more consistent shots from a 2MP Fuji camera from 2001 than I have with the Optio .\\n\",\n",
       " \"I noticed these elevation feet are cheaper for mac version than pc version . Since they looked the same I went with the cheaper mac feet for my Alienware m17x . Here are the pros and cons : pros : 1 . Its straight forward to apply . Peel and stick2 . It does amazing job of keeping my laptop cool . My fans are working less because my laptop is venting very well . 3 . Very sleek and slim when folded down . For those that are not familiar with the Alienware m17x , its a beast of a computer in weight and size . I had to cut my laptop bag ( biggest laptop bag from bags . com ) with scissors to get my laptop to slide in . I was concerned adding these feet would make it worse . I was very pleasantly surprised when everything folded down and was able to fit in without a problem . Its elegant looking . 4 . Beefy . If this can survive 2years supporting the m17x , it will probably have no problem supporting any other laptop . cons : 1 . Matter of time until adhesive backing starts peeling off . But then again my laptop weighs like 15lbs . This can be fixed easily by using silicone . 2 . The rubber friction pad will eventually fall off . Again easy fix , just glue it back in . 3 . I should have paid extra for the black feet since white feet don't look good on the jet black alienware . How does one spend $ 5k on a laptop but cheaps out on little elevation feet ? .. I 'm shaking my head .\\n\",\n",
       " 'Excelent product . I get about 15 times the life of ordinary batteries . I would reccomend to anybody who uses their camera a lot\\n',\n",
       " \"I purchased the little brother of this radio , the 120 , because it got good reviews . But then I had second thoughts because the 300 would let me select which alerts I wanted to attend to . ( Both models let me choose whcih counties I 'm interested in ) . Well , the 300 is going back . The LCD display on the 120 was very easy to read even with the back light off . But the display on the 300 is very dim unless you crouch down in front of it and view it at a low angle . I don't know whether mine was flawed or whether there 's an actual design issue .\\n\",\n",
       " \"For a 16 year-old kid these seemed like the best perchace that i could find , cool looking , not to expencive , and would be great to mix sound for my band .. this was not the case . I just opened these headphones and put them on , they feel good , not great but they dont hurt your head or your ears from long hours of having them on . The sound quality is so bad ! Everytime have it over 50 % volume it stars to crackle and distort . From previous experence this is nomaly what happens right before they speakers blow , its so poorly made ( from what other ppl have posted , i haven't cracked it open yet to look in side ) that im sure the power thats flowing through the copper ( if they even used copper ) coils is arking and shorting out the sound . if you want your music to sound good enought for you to enjoy DO NOT BUY THESE HEADPHONES ! they suck ! the only good thing that i like obout them are how they look and the bottle opener that comes with it , i need to see if there is a way to return them . I 'm keeping the bottle opener though .\\n\",\n",
       " \"Love this fryer . Only regret is that it is not large enough . I have a fry baby and decided to purchase the GranPappy . Now I 'm just waiting for a KING , something a bit larger . Makes great fry fish .\\n\",\n",
       " \"Works great once it was set up . Instructions are vague for Macs , but it 's just plug and go . Amazon liturature states taht this product is compatible with System 10.3 , but it 's not . We had to update to system 10.4 .\\n\"]"
      ]
     },
     "execution_count": 274,
     "metadata": {},
     "output_type": "execute_result"
    }
   ],
   "source": [
    "train_data"
   ]
  },
  {
   "cell_type": "code",
   "execution_count": null,
   "metadata": {},
   "outputs": [],
   "source": []
  }
 ],
 "metadata": {
  "kernelspec": {
   "display_name": "Python 3",
   "language": "python",
   "name": "python3"
  },
  "language_info": {
   "codemirror_mode": {
    "name": "ipython",
    "version": 3
   },
   "file_extension": ".py",
   "mimetype": "text/x-python",
   "name": "python",
   "nbconvert_exporter": "python",
   "pygments_lexer": "ipython3",
   "version": "3.6.4"
  }
 },
 "nbformat": 4,
 "nbformat_minor": 2
}
